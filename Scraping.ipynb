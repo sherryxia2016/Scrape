{
 "cells": [
  {
   "cell_type": "code",
   "execution_count": 642,
   "metadata": {
    "collapsed": true
   },
   "outputs": [],
   "source": [
    "import pandas as pd\n",
    "from selenium import webdriver  \n",
    "import re  \n",
    "import json  \n",
    "import time \n",
    "from bs4 import BeautifulSoup\n",
    "import re\n",
    "from selenium.webdriver.common.keys import Keys\n",
    "from selenium.webdriver.support.ui import WebDriverWait"
   ]
  },
  {
   "cell_type": "code",
   "execution_count": 437,
   "metadata": {
    "collapsed": true
   },
   "outputs": [],
   "source": [
    "options = webdriver.ChromeOptions()  \n",
    "options.add_argument('disable-infobars')  \n",
    "driver = webdriver.Chrome(chrome_options=options)  "
   ]
  },
  {
   "cell_type": "code",
   "execution_count": null,
   "metadata": {
    "collapsed": true
   },
   "outputs": [],
   "source": [
    "## jingdong"
   ]
  },
  {
   "cell_type": "code",
   "execution_count": null,
   "metadata": {
    "collapsed": true
   },
   "outputs": [],
   "source": [
    "search_content = '智能摄像头'"
   ]
  },
  {
   "cell_type": "code",
   "execution_count": 517,
   "metadata": {},
   "outputs": [],
   "source": [
    "urlbase = 'https://www.jd.com/'\n",
    "driver.get(urlbase)\n",
    "time.sleep(1)"
   ]
  },
  {
   "cell_type": "code",
   "execution_count": 518,
   "metadata": {},
   "outputs": [],
   "source": [
    "passwordElem = driver.find_element_by_id('key')\n",
    "passwordElem.clear()\n",
    "passwordElem.send_keys(search_content.decode('utf-8'))\n",
    "passwordElem.send_keys(Keys.RETURN)"
   ]
  },
  {
   "cell_type": "code",
   "execution_count": 520,
   "metadata": {},
   "outputs": [],
   "source": [
    "total_df = []\n",
    "for clicks in range(3):\n",
    "    elem = driver.find_element_by_tag_name(\"body\")\n",
    "\n",
    "    no_of_pagedowns = 20\n",
    "\n",
    "    while no_of_pagedowns:\n",
    "        elem.send_keys(Keys.PAGE_DOWN)\n",
    "        time.sleep(0.2)\n",
    "        no_of_pagedowns-=1\n",
    "\n",
    "    post_elems = driver.find_elements_by_class_name(\"gl-item\")\n",
    "    \n",
    "    ## save results to the total list\n",
    "    total_df.extend([[post.find_element_by_class_name('p-commit').text,\n",
    "    post.find_element_by_class_name('p-price').text, \n",
    "    post.find_element_by_class_name('p-name').text] for post in post_elems])\n",
    "    \n",
    "    ## if next page exists\n",
    "    next_p = driver.find_element_by_class_name('pn-next')\n",
    "    if next_p.get_attribute('href') is not None:\n",
    "        next_p.send_keys(Keys.ENTER)\n",
    "    else:\n",
    "        print 'End of searching.'\n",
    "        break"
   ]
  },
  {
   "cell_type": "code",
   "execution_count": 594,
   "metadata": {
    "collapsed": true
   },
   "outputs": [],
   "source": [
    "## taobao"
   ]
  },
  {
   "cell_type": "code",
   "execution_count": 525,
   "metadata": {
    "collapsed": true
   },
   "outputs": [],
   "source": [
    "urlbase = 'https://www.taobao.com/'\n",
    "driver.get(urlbase)\n",
    "time.sleep(1)\n",
    "\n",
    "passwordElem = driver.find_element_by_id('mq')\n",
    "passwordElem.clear()\n",
    "passwordElem.send_keys(search_content.decode('utf-8'))\n",
    "passwordElem.send_keys(Keys.RETURN)\n",
    "\n",
    "total_df = []\n",
    "for clicks in range(3):\n",
    "\n",
    "    b = driver.find_elements_by_class_name('deal-cnt')\n",
    "    comments = [i.text for i in b]\n",
    "\n",
    "    c = driver.find_elements_by_class_name('price')\n",
    "    prices = [i.text for i in c]\n",
    "\n",
    "    d = driver.find_elements_by_class_name('J_ClickStat')\n",
    "    titles = [d[i].text for i in range(len(d)) if int(i/2.0) != i/2.0]\n",
    "\n",
    "    total_df.extend(zip(comments, prices, titles))\n",
    "\n",
    "    ## if next page exists\n",
    "    next_p = driver.find_element_by_class_name('J_Ajax')\n",
    "    if next_p.get_attribute('href') is not None:\n",
    "        next_p.send_keys(Keys.ENTER)\n",
    "    else:\n",
    "        print 'End of searching.'\n",
    "        break"
   ]
  },
  {
   "cell_type": "code",
   "execution_count": 596,
   "metadata": {
    "collapsed": true
   },
   "outputs": [],
   "source": [
    "## suning"
   ]
  },
  {
   "cell_type": "code",
   "execution_count": 598,
   "metadata": {},
   "outputs": [],
   "source": [
    "urlbase = 'https://www.suning.com/'\n",
    "driver.get(urlbase)\n",
    "time.sleep(1)"
   ]
  },
  {
   "cell_type": "code",
   "execution_count": 599,
   "metadata": {
    "collapsed": true
   },
   "outputs": [],
   "source": [
    "passwordElem = driver.find_element_by_id('searchKeywords')\n",
    "passwordElem.clear()\n",
    "passwordElem.send_keys(search_content.decode('utf-8'))\n",
    "passwordElem.send_keys(Keys.RETURN)"
   ]
  },
  {
   "cell_type": "code",
   "execution_count": 647,
   "metadata": {
    "scrolled": false
   },
   "outputs": [],
   "source": [
    "total_df = []\n",
    "for clicks in range(3):\n",
    "    elem = driver.find_element_by_tag_name(\"body\")\n",
    "\n",
    "    no_of_pagedowns = 20\n",
    "\n",
    "    while no_of_pagedowns:\n",
    "        elem.send_keys(Keys.PAGE_DOWN)\n",
    "        time.sleep(0.2)\n",
    "        no_of_pagedowns-=1\n",
    "\n",
    "    b = driver.find_elements_by_class_name('com-cnt')\n",
    "    comments = [i.text for i in b]\n",
    "\n",
    "    d = driver.find_elements_by_class_name('prive-tag')\n",
    "    prices = [i.text for i in d if '\\n' not in i.text]\n",
    "\n",
    "    c = driver.find_elements_by_class_name('sell-point')\n",
    "    titles = [i.text for i in c]\n",
    "\n",
    "    total_df.extend(zip(comments, prices, titles))\n",
    "\n",
    "    ## if next page exists\n",
    "    next_p = driver.find_element_by_id('nextPage')\n",
    "    if next_p.get_attribute('href') is not None:\n",
    "        next_p.send_keys(Keys.ENTER)\n",
    "    else:\n",
    "        print 'End of searching.'\n",
    "        break\n",
    "    \n",
    "    time.sleep(4)"
   ]
  },
  {
   "cell_type": "code",
   "execution_count": 100,
   "metadata": {
    "collapsed": true
   },
   "outputs": [],
   "source": [
    "### Taobao\n",
    "page_url = 'https://item.taobao.com/item.htm?spm=a230r.1.14.69.63be6dc1IRZhGB&id=563566970802&ns=1&abbucket=11#detail'\n",
    "search_url = 'https://s.taobao.com/search?q=%E6%99%BA%E8%83%BD%E5%AE%B6%E5%B1%85&type=p&tmhkh5=&spm=a21wu.241046-us.a2227oh.d100&from=sea_1_searchbutton&catId=100'\n",
    "# search_url = 'https://s.taobao.com/search?q=%E6%99%BA%E8%83%BD%E5%AE%B6%E5%B1%85&type=p&tmhkh5=&spm=a21wu.241046-us.a2227oh.d100&from=sea_1_searchbutton&catId=100&bcoffset=3&ntoffset=3&p4ppushleft=1%2C48&s=44'\n",
    "# search_url = 'https://s.taobao.com/search?q=%E6%99%BA%E8%83%BD%E5%AE%B6%E5%B1%85&type=p&tmhkh5=&spm=a21wu.241046-us.a2227oh.d100&from=sea_1_searchbutton&catId=100&bcoffset=0&ntoffset=0&p4ppushleft=1%2C48&s=88'\n",
    "# search_url = 'https://s.taobao.com/search?q=%E6%99%BA%E8%83%BD%E5%AE%B6%E5%B1%85&type=p&tmhkh5=&spm=a21wu.241046-us.a2227oh.d100&from=sea_1_searchbutton&catId=100&bcoffset=-6&ntoffset=-6&p4ppushleft=1%2C48&s=176'\n",
    "driver.get(search_url)"
   ]
  },
  {
   "cell_type": "code",
   "execution_count": 63,
   "metadata": {},
   "outputs": [
    {
     "name": "stdout",
     "output_type": "stream",
     "text": [
      "('Total Rate:', u'1500')\n",
      "('Total Sold:', u'713')\n",
      "('Title:', u'\\u7535\\u52a8\\u7a97\\u5e18\\u9065\\u63a7\\u81ea\\u52a8\\u667a\\u80fd\\u7a97\\u5e18\\u5bb6\\u7528wifi\\u5f00\\u5408\\u5e18\\u8f68\\u9053\\u6746\\u963f\\u91cc\\u667a\\u80fd\\u5bb6\\u5c45\\u7535\\u673a')\n"
     ]
    }
   ],
   "source": [
    "print('Total Rate:', driver.find_elements_by_id('J_RateCounter')[0].text)\n",
    "print('Total Sold:', driver.find_elements_by_id('J_SellCounter')[0].text)\n",
    "print('Title:', driver.find_elements_by_class_name('tb-main-title')[0].text)"
   ]
  },
  {
   "cell_type": "code",
   "execution_count": 64,
   "metadata": {
    "collapsed": true
   },
   "outputs": [],
   "source": [
    "## Tmall\n",
    "url = 'https://detail.tmall.com/item.htm?spm=a230r.1.14.27.63be6dc1vFTyxA&id=536785566352&ns=1&abbucket=11'\n",
    "driver.get(url)\n",
    "\n",
    "print('Monthly Sold Unit:', driver.find_element_by_xpath(\"//li[@class='tm-ind-item tm-ind-sellCount']\").find_element_by_class_name('tm-count').text)\n",
    "print('Total Rate:', driver.find_element_by_xpath(\"//li[@class='tm-ind-item tm-ind-reviewCount canClick tm-line3']\").find_element_by_class_name('tm-count').text)\n",
    "print('Title:', driver.find_element_by_class_name('tb-detail-hd').text)"
   ]
  },
  {
   "cell_type": "code",
   "execution_count": 148,
   "metadata": {
    "collapsed": true
   },
   "outputs": [],
   "source": [
    "## beautiful soup"
   ]
  },
  {
   "cell_type": "code",
   "execution_count": 290,
   "metadata": {
    "collapsed": true
   },
   "outputs": [],
   "source": [
    "def scrape_search_page_ali(total_pgs, search_content):\n",
    "    total_list = []\n",
    "    for i in range(0,total_pgs):\n",
    "        time.sleep(2)\n",
    "        search_url = 'https://s.taobao.com/search?q={2}&type=p&tmhkh5=&spm=a21wu.241046-us.a2227oh.d100\\\n",
    "        &from=sea_1_searchbutton&catId=100&bcoffset={0}&ntoffset={0}&p4ppushleft=1%2C48&s={1}'.format(str(-3*i + 6), str(i*44), search_content)\n",
    "        response = get(search_url)\n",
    "    #     html_soup = BeautifulSoup(response.text, 'html.parser')\n",
    "\n",
    "        html=response.content\n",
    "        fileds=re.findall(r'g_page_config = (.*?)g_srp_loadCss()',html,re.S)\n",
    "        fileds=''.join(fileds[0]).replace(';','')\n",
    "        fileds=re.sub('\\s','',fileds)\n",
    "\n",
    "        json_acceptable_string = fileds.replace(\"'\", \"\\\"\")\n",
    "        d = json.loads(json_acceptable_string)\n",
    "        total_list.extend([[item['view_price'], item['view_sales'], item['raw_title']] for item in d['mods']['itemlist']['data']['auctions']])\n",
    "    return pd.DataFrame(total_list, columns = ['Price','Payment_Count','Title'])"
   ]
  },
  {
   "cell_type": "code",
   "execution_count": 428,
   "metadata": {
    "collapsed": true
   },
   "outputs": [],
   "source": [
    "def getstr(s, i):  \n",
    "    html = get('https://search.jd.com/Search?keyword={0}&enc=utf-8&qrst=1&rt=1&stop=1&vt=2&wq={0}&page={1}&s={2}&click=0'.format(s,i, (i - 1)*30 + 1)).text  \n",
    "    soup = BeautifulSoup(html, 'lxml')  \n",
    "    lis = soup.find_all(\"li\", class_='gl-item')  \n",
    "    str1 = ''  \n",
    "    for li in lis:  \n",
    "        data_pid = li.get(\"data-sku\")  \n",
    "        str1=str1+str(data_pid)+','  \n",
    "    return str1  "
   ]
  },
  {
   "cell_type": "code",
   "execution_count": 430,
   "metadata": {
    "collapsed": true
   },
   "outputs": [],
   "source": [
    "Str = '智能家居'\n",
    "\n",
    "# url = 'https://search.jd.com/Search?keyword=%E5%9C%9F%E8%B1%86&enc=utf-8'  \n",
    "# content = get(url).text  \n",
    "# selector = etree.HTML(content)  \n",
    "# links = selector.xpath(\".//*[@id='J_goodsList']/ul/li/div/div[1]/a/@href\")  \n",
    "\n",
    "# bb = selector.xpath(\".//*[@id='J_goodsList']/ul/li/div/div[1]/a\")[0]\n",
    "def scrape_search_page_jd(total_pgs, Str):\n",
    "    urlbase = 'https://search.jd.com/s_new.php?keyword=%s&enc=utf-8&qrst=1&rt=1&stop=1&vt=2&wq=%s&stock=1&page=%d&s=28&scrolling=y&'\n",
    "    all_results = []\n",
    "    for i in range(1,total_pgs + 1):  \n",
    "        header = {  \n",
    "            'Referer':'https://search.jd.com',  \n",
    "        }  \n",
    "        content = get(urlbase%(Str,Str,i),headers=header).text  \n",
    "\n",
    "        total_list = []\n",
    "        pat_sta = re.compile('<a target=\"_blank\" title=\"(.*?)\" href=\"(.*?)\"')  \n",
    "        items = re.findall(pat_sta,content)  \n",
    "        for k in items:\n",
    "            if 'https' not in k[1]:\n",
    "                id_code = k[1].replace(u'//item.jd.com/','').split('.')[0]\n",
    "                pat_price = re.compile('<strong class=\"J_%s\" (.*?)(\\d+\\.\\d+)'%id_code)  \n",
    "                price_ = re.findall(pat_price,content)[0][-1]\n",
    "\n",
    "                pat_comments = re.compile('<strong><a id=\"J_comment_%s\"(.*?)>(.*?)<'%id_code)  \n",
    "                comments_ = re.findall(pat_comments,content)[0][-1]\n",
    "                total_list.append(list(k) + [price_, comments_])\n",
    "        all_results.extend(total_list)\n",
    "    return pd.DataFrame(all_results, columns = ['Title','Web','Price','Comment_Count']).drop_duplicates()"
   ]
  },
  {
   "cell_type": "code",
   "execution_count": 433,
   "metadata": {
    "collapsed": true
   },
   "outputs": [],
   "source": [
    "df = scrape_search_page_ali(3, Str)"
   ]
  }
 ],
 "metadata": {
  "kernelspec": {
   "display_name": "Python 2",
   "language": "python",
   "name": "python2"
  },
  "language_info": {
   "codemirror_mode": {
    "name": "ipython",
    "version": 2
   },
   "file_extension": ".py",
   "mimetype": "text/x-python",
   "name": "python",
   "nbconvert_exporter": "python",
   "pygments_lexer": "ipython2",
   "version": "2.7.13"
  }
 },
 "nbformat": 4,
 "nbformat_minor": 2
}
