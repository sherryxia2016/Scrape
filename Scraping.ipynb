{
 "cells": [
  {
   "cell_type": "code",
   "execution_count": null,
   "metadata": {
    "collapsed": true
   },
   "outputs": [],
   "source": [
    "import pandas as pd\n",
    "from selenium import webdriver  \n",
    "import re  \n",
    "import json  \n",
    "import time \n",
    "from bs4 import BeautifulSoup\n",
    "import re\n",
    "\n",
    "options = webdriver.ChromeOptions()  \n",
    "options.add_argument('disable-infobars')  \n",
    "driver = webdriver.Chrome(chrome_options=options)  \n",
    "comments=[]"
   ]
  },
  {
   "cell_type": "code",
   "execution_count": 100,
   "metadata": {
    "collapsed": true
   },
   "outputs": [],
   "source": [
    "### Taobao\n",
    "page_url = 'https://item.taobao.com/item.htm?spm=a230r.1.14.69.63be6dc1IRZhGB&id=563566970802&ns=1&abbucket=11#detail'\n",
    "search_url = 'https://s.taobao.com/search?q=%E6%99%BA%E8%83%BD%E5%AE%B6%E5%B1%85&type=p&tmhkh5=&spm=a21wu.241046-us.a2227oh.d100&from=sea_1_searchbutton&catId=100'\n",
    "# search_url = 'https://s.taobao.com/search?q=%E6%99%BA%E8%83%BD%E5%AE%B6%E5%B1%85&type=p&tmhkh5=&spm=a21wu.241046-us.a2227oh.d100&from=sea_1_searchbutton&catId=100&bcoffset=3&ntoffset=3&p4ppushleft=1%2C48&s=44'\n",
    "# search_url = 'https://s.taobao.com/search?q=%E6%99%BA%E8%83%BD%E5%AE%B6%E5%B1%85&type=p&tmhkh5=&spm=a21wu.241046-us.a2227oh.d100&from=sea_1_searchbutton&catId=100&bcoffset=0&ntoffset=0&p4ppushleft=1%2C48&s=88'\n",
    "# search_url = 'https://s.taobao.com/search?q=%E6%99%BA%E8%83%BD%E5%AE%B6%E5%B1%85&type=p&tmhkh5=&spm=a21wu.241046-us.a2227oh.d100&from=sea_1_searchbutton&catId=100&bcoffset=-6&ntoffset=-6&p4ppushleft=1%2C48&s=176'\n",
    "driver.get(search_url)"
   ]
  },
  {
   "cell_type": "code",
   "execution_count": 107,
   "metadata": {},
   "outputs": [],
   "source": [
    "# payment count for all the deals in this page\n",
    "a = driver.find_elements_by_class_name('deal-cnt')"
   ]
  },
  {
   "cell_type": "code",
   "execution_count": 146,
   "metadata": {},
   "outputs": [],
   "source": [
    "b = driver.find_elements_by_class_name('pic')[0]"
   ]
  },
  {
   "cell_type": "code",
   "execution_count": 63,
   "metadata": {},
   "outputs": [
    {
     "name": "stdout",
     "output_type": "stream",
     "text": [
      "('Total Rate:', u'1500')\n",
      "('Total Sold:', u'713')\n",
      "('Title:', u'\\u7535\\u52a8\\u7a97\\u5e18\\u9065\\u63a7\\u81ea\\u52a8\\u667a\\u80fd\\u7a97\\u5e18\\u5bb6\\u7528wifi\\u5f00\\u5408\\u5e18\\u8f68\\u9053\\u6746\\u963f\\u91cc\\u667a\\u80fd\\u5bb6\\u5c45\\u7535\\u673a')\n"
     ]
    }
   ],
   "source": [
    "print('Total Rate:', driver.find_elements_by_id('J_RateCounter')[0].text)\n",
    "print('Total Sold:', driver.find_elements_by_id('J_SellCounter')[0].text)\n",
    "print('Title:', driver.find_elements_by_class_name('tb-main-title')[0].text)"
   ]
  },
  {
   "cell_type": "code",
   "execution_count": 64,
   "metadata": {
    "collapsed": true
   },
   "outputs": [],
   "source": [
    "## Tmall\n",
    "url = 'https://detail.tmall.com/item.htm?spm=a230r.1.14.27.63be6dc1vFTyxA&id=536785566352&ns=1&abbucket=11'\n",
    "driver.get(url)\n",
    "\n",
    "print('Monthly Sold Unit:', driver.find_element_by_xpath(\"//li[@class='tm-ind-item tm-ind-sellCount']\").find_element_by_class_name('tm-count').text)\n",
    "print('Total Rate:', driver.find_element_by_xpath(\"//li[@class='tm-ind-item tm-ind-reviewCount canClick tm-line3']\").find_element_by_class_name('tm-count').text)\n",
    "print('Title:', driver.find_element_by_class_name('tb-detail-hd').text)"
   ]
  },
  {
   "cell_type": "code",
   "execution_count": 148,
   "metadata": {
    "collapsed": true
   },
   "outputs": [],
   "source": [
    "## beautiful soup"
   ]
  },
  {
   "cell_type": "code",
   "execution_count": 290,
   "metadata": {
    "collapsed": true
   },
   "outputs": [],
   "source": [
    "def scrape_search_page_ali(total_pgs, search_content):\n",
    "    total_list = []\n",
    "    for i in range(0,total_pgs):\n",
    "        time.sleep(2)\n",
    "        search_url = 'https://s.taobao.com/search?q={2}&type=p&tmhkh5=&spm=a21wu.241046-us.a2227oh.d100\\\n",
    "        &from=sea_1_searchbutton&catId=100&bcoffset={0}&ntoffset={0}&p4ppushleft=1%2C48&s={1}'.format(str(-3*i + 6), str(i*44), search_content)\n",
    "        response = get(search_url)\n",
    "    #     html_soup = BeautifulSoup(response.text, 'html.parser')\n",
    "\n",
    "        html=response.content\n",
    "        fileds=re.findall(r'g_page_config = (.*?)g_srp_loadCss()',html,re.S)\n",
    "        fileds=''.join(fileds[0]).replace(';','')\n",
    "        fileds=re.sub('\\s','',fileds)\n",
    "\n",
    "        json_acceptable_string = fileds.replace(\"'\", \"\\\"\")\n",
    "        d = json.loads(json_acceptable_string)\n",
    "        total_list.extend([[item['view_price'], item['view_sales'], item['raw_title']] for item in d['mods']['itemlist']['data']['auctions']])\n",
    "    return pd.DataFrame(total_list, columns = ['Price','Payment_Count','Title'])"
   ]
  },
  {
   "cell_type": "code",
   "execution_count": 428,
   "metadata": {
    "collapsed": true
   },
   "outputs": [],
   "source": [
    "def getstr(s, i):  \n",
    "    html = get('https://search.jd.com/Search?keyword={0}&enc=utf-8&qrst=1&rt=1&stop=1&vt=2&wq={0}&page={1}&s={2}&click=0'.format(s,i, (i - 1)*30 + 1)).text  \n",
    "    soup = BeautifulSoup(html, 'lxml')  \n",
    "    lis = soup.find_all(\"li\", class_='gl-item')  \n",
    "    str1 = ''  \n",
    "    for li in lis:  \n",
    "        data_pid = li.get(\"data-sku\")  \n",
    "        str1=str1+str(data_pid)+','  \n",
    "    return str1  "
   ]
  },
  {
   "cell_type": "code",
   "execution_count": 430,
   "metadata": {},
   "outputs": [],
   "source": [
    "Str = '智能家居'\n",
    "\n",
    "# url = 'https://search.jd.com/Search?keyword=%E5%9C%9F%E8%B1%86&enc=utf-8'  \n",
    "# content = get(url).text  \n",
    "# selector = etree.HTML(content)  \n",
    "# links = selector.xpath(\".//*[@id='J_goodsList']/ul/li/div/div[1]/a/@href\")  \n",
    "\n",
    "# bb = selector.xpath(\".//*[@id='J_goodsList']/ul/li/div/div[1]/a\")[0]\n",
    "def scrape_search_page_ali(total_pgs, Str):\n",
    "    urlbase = 'https://search.jd.com/s_new.php?keyword=%s&enc=utf-8&qrst=1&rt=1&stop=1&vt=2&wq=%s&stock=1&page=%d&s=28&scrolling=y&log_id=%s'\n",
    "    all_results = []\n",
    "    for i in range(1,total_pgs + 1):  \n",
    "        header = {  \n",
    "            'Referer':'https://search.jd.com',  \n",
    "        }  \n",
    "        content = get(urlbase%(Str,Str,i,getstr(Str, i)),headers=header).text  \n",
    "\n",
    "        total_list = []\n",
    "        pat_sta = re.compile('<a target=\"_blank\" title=\"(.*?)\" href=\"(.*?)\"')  \n",
    "        items = re.findall(pat_sta,content)  \n",
    "        for k in items:\n",
    "            if 'https' not in k[1]:\n",
    "                id_code = k[1].replace(u'//item.jd.com/','').split('.')[0]\n",
    "                pat_price = re.compile('<strong class=\"J_%s\" (.*?)(\\d+\\.\\d+)'%id_code)  \n",
    "                price_ = re.findall(pat_price,content)[0][-1]\n",
    "\n",
    "                pat_comments = re.compile('<strong><a id=\"J_comment_%s\"(.*?)>(.*?)<'%id_code)  \n",
    "                comments_ = re.findall(pat_comments,content)[0][-1]\n",
    "                total_list.append(list(k) + [price_, comments_])\n",
    "        all_results.extend(total_list)\n",
    "    return pd.DataFrame(all_results, columns = ['Title','Web','Price','Comment_Count']).drop_duplicates()"
   ]
  },
  {
   "cell_type": "code",
   "execution_count": 433,
   "metadata": {},
   "outputs": [],
   "source": [
    "df = scrape_search_page_ali(3, Str)"
   ]
  }
 ],
 "metadata": {
  "kernelspec": {
   "display_name": "Python 2",
   "language": "python",
   "name": "python2"
  },
  "language_info": {
   "codemirror_mode": {
    "name": "ipython",
    "version": 2
   },
   "file_extension": ".py",
   "mimetype": "text/x-python",
   "name": "python",
   "nbconvert_exporter": "python",
   "pygments_lexer": "ipython2",
   "version": "2.7.13"
  }
 },
 "nbformat": 4,
 "nbformat_minor": 2
}
